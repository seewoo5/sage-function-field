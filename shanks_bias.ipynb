{
 "cells": [
  {
   "cell_type": "markdown",
   "id": "40a98360",
   "metadata": {},
   "source": [
    "This is a supplementary Jupyter notebook for the paper \"Shanks bias in function fields\"."
   ]
  },
  {
   "cell_type": "code",
   "execution_count": 1,
   "id": "496dcc98",
   "metadata": {
    "vscode": {
     "languageId": "sage"
    }
   },
   "outputs": [],
   "source": [
    "from ff import *"
   ]
  },
  {
   "cell_type": "markdown",
   "id": "5d1a7cee",
   "metadata": {},
   "source": [
    "$L$-functions for $\\mu$ and $\\lambda$-bias."
   ]
  },
  {
   "cell_type": "code",
   "execution_count": 2,
   "id": "1730739d",
   "metadata": {
    "vscode": {
     "languageId": "sage"
    }
   },
   "outputs": [],
   "source": [
    "def lfunc_mu(m, prec=None):\n",
    "    \"\"\"\n",
    "    L-function for mu-bias, given by L_mu_m = 1 / L_chi_m.\n",
    "\n",
    "    If precision is None, return as a rational function.\n",
    "    If precision is given, return as a power series in u\n",
    "    \"\"\"\n",
    "    L_chi_m = DirichletCharacterFFQuadratic(m).lfunc()\n",
    "    if prec is None:\n",
    "        K = L_chi_m.parent().fraction_field()\n",
    "        L_mu = 1 / K(L_chi_m)\n",
    "    else:\n",
    "        R2.<u> = PowerSeriesRing(ZZ, default_prec=prec)\n",
    "        L_mu = 1 / R2(L_chi_m)\n",
    "    return L_mu\n",
    "\n",
    "\n",
    "def lfunc_mu_cum(m, prec=None):\n",
    "    \"\"\"\n",
    "    Cumulative L-function for mu, given by L_mu_cum_m = (L_mu - 1) / (1 - u)\n",
    "    \"\"\"\n",
    "    L_mu = lfunc_mu(m, prec)\n",
    "    return (L_mu - 1) / (1 - L_mu.parent().gen())\n",
    "\n",
    "\n",
    "def lfunc_lambda(m, prec=None):\n",
    "    \"\"\"\n",
    "    L-function for lambda-bias, given by\n",
    "    L_lambda_m = \\prod_{P | m} (1 - u^{2*deg(P)}) / (1 - q * u^2) / dirichlet_l_quad_char(m)\n",
    "\n",
    "    If precision is None, return as a rational function.\n",
    "    If precision is given, return as a power series in u\n",
    "    \"\"\"\n",
    "    chi_m = DirichletCharacterFFQuadratic(m)\n",
    "    L_chi_m = chi_m.lfunc()\n",
    "    q = chi_m.q()\n",
    "    u = L_chi_m.parent().gen()\n",
    "    if prec is None:\n",
    "        K = L_chi_m.parent().fraction_field()\n",
    "        L_lambda = 1 / K(L_chi_m)\n",
    "    else:\n",
    "        R2.<u> = PowerSeriesRing(ZZ, default_prec=prec)\n",
    "        L_lambda = 1 / R2(L_chi_m)\n",
    "    for P, _ in m.factor():\n",
    "        L_lambda *= 1 - u ^ (2 * P.degree())\n",
    "    L_lambda /= (1 - q * u ^ 2)\n",
    "    return L_lambda\n",
    "\n",
    "\n",
    "def lfunc_lambda_cum(m, prec=None):\n",
    "    \"\"\"\n",
    "    L-function for the cumulative lambda-bias, given by\n",
    "    (L_lambda - 1) / (1 - u)\n",
    "    \"\"\"\n",
    "    L_lambda = lfunc_lambda(m, prec)\n",
    "    return (L_lambda - 1) / (1 - L_lambda.parent().gen())\n"
   ]
  },
  {
   "cell_type": "markdown",
   "id": "abc1b2d3",
   "metadata": {},
   "source": [
    "Function to approximate density by counting up to certain degrees."
   ]
  },
  {
   "cell_type": "code",
   "execution_count": 3,
   "id": "3610b9ed",
   "metadata": {
    "vscode": {
     "languageId": "sage"
    }
   },
   "outputs": [],
   "source": [
    "import polars as pl\n",
    "\n",
    "def densities_table(m, M, n_max_list):\n",
    "    L_mu = lfunc_mu(m, prec=M+1)\n",
    "    L_mu_cum = lfunc_mu_cum(m, prec=M+1)\n",
    "    L_lambda = lfunc_lambda(m, prec=M+1)\n",
    "    L_lambda_cum = lfunc_lambda_cum(m, prec=M+1)\n",
    "    rows = []\n",
    "    for n_max in n_max_list:\n",
    "        denom = float(n_max)\n",
    "        delta_lambda      = sum(1 for n in range(1, n_max + 1) if L_lambda[n]      > 0) / denom\n",
    "        delta_lambda_cum  = sum(1 for n in range(1, n_max + 1) if L_lambda_cum[n]  > 0) / denom\n",
    "        delta_mu          = sum(1 for n in range(1, n_max + 1) if L_mu[n]          > 0) / denom\n",
    "        delta_mu_cum      = sum(1 for n in range(1, n_max + 1) if L_mu_cum[n]      > 0) / denom\n",
    "        rows.append({\n",
    "            \"n_max\": n_max,\n",
    "            \"delta_lambda\": delta_lambda,\n",
    "            \"delta_lambda_cum\": delta_lambda_cum,\n",
    "            \"delta_mu\": delta_mu,\n",
    "            \"delta_mu_cum\": delta_mu_cum,\n",
    "        })\n",
    "\n",
    "    # Build a Polars DataFrame from a list of dicts\n",
    "    df = pl.from_dicts(rows)\n",
    "    return df"
   ]
  },
  {
   "cell_type": "markdown",
   "id": "fa667f0b",
   "metadata": {},
   "source": [
    "Approximate integral for density."
   ]
  },
  {
   "cell_type": "code",
   "execution_count": 4,
   "id": "9bb0a0cd",
   "metadata": {
    "vscode": {
     "languageId": "sage"
    }
   },
   "outputs": [],
   "source": [
    "import numpy as np\n",
    "from scipy.integrate import quad\n",
    "\n",
    "def area(a, b, c, tol=1e-6):\n",
    "    # Area of the set \\{(x, y) \\in [0, 2\\pi]^2 | a sin(x) + b sin(y) > c}\n",
    "    # Normalized by (2\\pi)^2\n",
    "    if b == 0:\n",
    "        raise ValueError(\"b must be non-zero (swap roles of x and y otherwise).\")\n",
    "    # quick exclusions\n",
    "    if c >= abs(a) + abs(b):\n",
    "        return 0.0\n",
    "    if c <= -abs(a) - abs(b):\n",
    "        return 1.0\n",
    "    \n",
    "    def ell(d):\n",
    "        if d >= 1.0:\n",
    "            return 0.0\n",
    "        if d <= -1.0:\n",
    "            return 2*np.pi\n",
    "        return 2*np.arccos(d)\n",
    "    \n",
    "    integrand = lambda x: ell((c - a*np.sin(x))/b)\n",
    "    area_val, _ = quad(integrand, 0.0, 2*np.pi, epsabs=tol, epsrel=tol)\n",
    "    return area_val / (2 * np.pi) ** 2"
   ]
  },
  {
   "cell_type": "markdown",
   "id": "11d51321",
   "metadata": {},
   "source": [
    "Degree 3 examples."
   ]
  },
  {
   "cell_type": "markdown",
   "id": "4d0010f7",
   "metadata": {},
   "source": [
    "Example 1: $m_1(T) = T^3 + T + 4 \\in \\mathbb{F}_5[T]$ satisfies GSH."
   ]
  },
  {
   "cell_type": "code",
   "execution_count": 5,
   "id": "5d72af96",
   "metadata": {
    "vscode": {
     "languageId": "sage"
    }
   },
   "outputs": [
    {
     "name": "stdout",
     "output_type": "stream",
     "text": [
      "Dirichlet L-function for chi_m1:\n",
      "5*u^2 + 3*u + 1\n",
      "L-function for mobius bias:\n",
      "1/5/(u^2 + 3/5*u + 1/5)\n",
      "L-function for cumulative mobius bias:\n",
      "(u^2 + 3/5*u)/(u^3 - 2/5*u^2 - 2/5*u - 1/5)\n",
      "L-function for lambda bias:\n",
      "(1/25*u^6 - 1/25)/(u^4 + 3/5*u^3 - 3/25*u - 1/25)\n",
      "L-function for cumulative lambda bias:\n",
      "(-1/25*u^6 + u^4 + 3/5*u^3 - 3/25*u)/(u^5 - 2/5*u^4 - 3/5*u^3 - 3/25*u^2 + 2/25*u + 1/25)\n"
     ]
    }
   ],
   "source": [
    "R5.<t> = GF(5)['t']\n",
    "m1 = t^3 + t + 4\n",
    "chi_m1 = DirichletCharacterFFQuadratic(m1)\n",
    "L_chi_m1 = chi_m1.lfunc()\n",
    "\n",
    "print(\"Dirichlet L-function for chi_m1:\")\n",
    "print(L_chi_m1)\n",
    "\n",
    "print(\"L-function for mobius bias:\")\n",
    "print(lfunc_mu(m1))\n",
    "\n",
    "print(\"L-function for cumulative mobius bias:\")\n",
    "print(lfunc_mu_cum(m1))\n",
    "\n",
    "print(\"L-function for lambda bias:\")\n",
    "print(lfunc_lambda(m1))\n",
    "\n",
    "print(\"L-function for cumulative lambda bias:\")\n",
    "print(lfunc_lambda_cum(m1))"
   ]
  },
  {
   "cell_type": "code",
   "execution_count": 6,
   "id": "2e7369c9",
   "metadata": {
    "vscode": {
     "languageId": "sage"
    }
   },
   "outputs": [
    {
     "name": "stdout",
     "output_type": "stream",
     "text": [
      "shape: (4, 5)\n",
      "┌───────┬──────────────┬──────────────────┬──────────┬──────────────┐\n",
      "│ n_max ┆ delta_lambda ┆ delta_lambda_cum ┆ delta_mu ┆ delta_mu_cum │\n",
      "│ ---   ┆ ---          ┆ ---              ┆ ---      ┆ ---          │\n",
      "│ i64   ┆ f64          ┆ f64              ┆ f64      ┆ f64          │\n",
      "╞═══════╪══════════════╪══════════════════╪══════════╪══════════════╡\n",
      "│ 10    ┆ 0.6          ┆ 0.6              ┆ 0.5      ┆ 0.4          │\n",
      "│ 100   ┆ 0.62         ┆ 0.68             ┆ 0.49     ┆ 0.49         │\n",
      "│ 1000  ┆ 0.616        ┆ 0.69             ┆ 0.499    ┆ 0.5          │\n",
      "│ 10000 ┆ 0.6168       ┆ 0.6891           ┆ 0.4999   ┆ 0.4999       │\n",
      "└───────┴──────────────┴──────────────────┴──────────┴──────────────┘\n"
     ]
    }
   ],
   "source": [
    "df = densities_table(m1, 10000, [10, 100, 1000, 10000])\n",
    "print(df)"
   ]
  },
  {
   "cell_type": "markdown",
   "id": "71b3aefb",
   "metadata": {},
   "source": [
    "Explicit density using trigonometric functions:"
   ]
  },
  {
   "cell_type": "code",
   "execution_count": 7,
   "id": "2cf2ddff",
   "metadata": {
    "vscode": {
     "languageId": "sage"
    }
   },
   "outputs": [
    {
     "name": "stdout",
     "output_type": "stream",
     "text": [
      "a: 31/54*sqrt(3) 0.9943254636043554\n",
      "a_even: 217/144*sqrt(3)*sqrt(1/5) 1.1672741473986241\n",
      "a_odd: -31/144*sqrt(5)*sqrt(3)*sqrt(1/5) -0.3728720488516333\n",
      "delta_lambda: 0.616823\n",
      "delta_lambda_cum: 0.689187\n"
     ]
    }
   ],
   "source": [
    "def a(q, costheta):\n",
    "    # a = (1 - q^(-3)) / sqrt(1 - 2 * q^(-3) * cos(6 * theta) + q^(-6))\n",
    "    cos3theta = 4 * costheta**3 - 3 * costheta\n",
    "    cos6theta = 2 * cos3theta**2 - 1\n",
    "    return (1 - q**(-3)) / sqrt(1 - 2 * q**(-3) * cos6theta + q**(-6))\n",
    "\n",
    "def a_even(q, costheta):\n",
    "    # a_even = a * sqrt(1 - 2 * q^(-1/2) * cos(theta) + q^(-1)) * (q + q^(1/2) * cos(theta)) / (q - 1)\n",
    "    return a(q, costheta) * sqrt(1 - 2 * q**(-1/2) * costheta + q**(-1)) * (q + q**(1/2) * costheta) / (q - 1)\n",
    "\n",
    "def a_odd(q, costheta):\n",
    "    # a_odd = a * sqrt(1 - 2 * q^(-1/2) * cos(theta) + q^(-1)) * (q * cos(theta) + q^(1/2)) / (q - 1)\n",
    "    return a(q, costheta) * sqrt(1 - 2 * q**(-1/2) * costheta + q**(-1)) * (q * costheta + q**(1/2)) / (q - 1)\n",
    "\n",
    "costheta = - 3 / sqrt(20)\n",
    "q = 5\n",
    "a_ = a(q, costheta)\n",
    "a_even_ = a_even(q, costheta)\n",
    "a_odd_ = a_odd(q, costheta)\n",
    "print(\"a:\", a_, float(a_))\n",
    "print(\"a_even:\", a_even_, float(a_even_))\n",
    "print(\"a_odd:\", a_odd_, float(a_odd_))\n",
    "\n",
    "delta_lambda = 1 / 2 + (arcsin(a_) + arcsin(a_ * costheta)) / (2 * pi)\n",
    "delta_lambda_cum = 1 / 2 + (pi / 2  + arcsin(a_odd_)) / (2 * pi)  # a_even_ > 1\n",
    "print(f\"delta_lambda: {float(delta_lambda):.6f}\")\n",
    "print(f\"delta_lambda_cum: {float(delta_lambda_cum):.6f}\")"
   ]
  },
  {
   "cell_type": "markdown",
   "id": "7c5d3c0f",
   "metadata": {},
   "source": [
    "Example 2: $m_2(T) = T^3 - T + 1 \\in \\mathbb{F}_3[T]$, where GSH does not hold."
   ]
  },
  {
   "cell_type": "code",
   "execution_count": 8,
   "id": "4dfef892",
   "metadata": {
    "vscode": {
     "languageId": "sage"
    }
   },
   "outputs": [
    {
     "name": "stdout",
     "output_type": "stream",
     "text": [
      "Dirichlet L-function for chi_m2:\n",
      "3*u^2 - 3*u + 1\n",
      "L-function for mobius bias:\n",
      "1/3/(u^2 - u + 1/3)\n",
      "L-function for cumulative mobius bias:\n",
      "u/(u^2 - u + 1/3)\n",
      "L-function for lambda bias:\n",
      "(1/9*u^6 - 1/9)/(u^4 - u^3 + 1/3*u - 1/9)\n",
      "L-function for cumulative lambda bias:\n",
      "(-1/9*u^6 + u^4 - u^3 + 1/3*u)/(u^5 - 2*u^4 + u^3 + 1/3*u^2 - 4/9*u + 1/9)\n"
     ]
    }
   ],
   "source": [
    "R3.<t> = GF(3)['t']\n",
    "m2 = t^3 - t + 1\n",
    "chi_m2 = DirichletCharacterFFQuadratic(m2)\n",
    "L_chi_m2 = chi_m2.lfunc()\n",
    "\n",
    "print(\"Dirichlet L-function for chi_m2:\")\n",
    "print(L_chi_m2)\n",
    "\n",
    "print(\"L-function for mobius bias:\")\n",
    "print(lfunc_mu(m2))\n",
    "\n",
    "print(\"L-function for cumulative mobius bias:\")\n",
    "print(lfunc_mu_cum(m2))\n",
    "\n",
    "print(\"L-function for lambda bias:\")\n",
    "print(lfunc_lambda(m2))\n",
    "\n",
    "print(\"L-function for cumulative lambda bias:\")\n",
    "print(lfunc_lambda_cum(m2))"
   ]
  },
  {
   "cell_type": "code",
   "execution_count": 9,
   "id": "d5000741",
   "metadata": {
    "vscode": {
     "languageId": "sage"
    }
   },
   "outputs": [
    {
     "name": "stdout",
     "output_type": "stream",
     "text": [
      "shape: (4, 5)\n",
      "┌───────┬──────────────┬──────────────────┬──────────┬──────────────┐\n",
      "│ n_max ┆ delta_lambda ┆ delta_lambda_cum ┆ delta_mu ┆ delta_mu_cum │\n",
      "│ ---   ┆ ---          ┆ ---              ┆ ---      ┆ ---          │\n",
      "│ i64   ┆ f64          ┆ f64              ┆ f64      ┆ f64          │\n",
      "╞═══════╪══════════════╪══════════════════╪══════════╪══════════════╡\n",
      "│ 10    ┆ 0.8          ┆ 1.0              ┆ 0.4      ┆ 0.5          │\n",
      "│ 100   ┆ 0.76         ┆ 1.0              ┆ 0.44     ┆ 0.44         │\n",
      "│ 1000  ┆ 0.751        ┆ 1.0              ┆ 0.419    ┆ 0.419        │\n",
      "│ 10000 ┆ 0.7501       ┆ 1.0              ┆ 0.4169   ┆ 0.4169       │\n",
      "└───────┴──────────────┴──────────────────┴──────────┴──────────────┘\n"
     ]
    }
   ],
   "source": [
    "df = densities_table(m2, 10000, [10, 100, 1000, 10000])\n",
    "print(df)  # Densities are 3/4, 1, 5/12, 5/12"
   ]
  },
  {
   "cell_type": "markdown",
   "id": "246eb670",
   "metadata": {},
   "source": [
    "Higher degree example: $m = (T^2 + T + 1) (T^3 + 2T + 1) \\in \\mathbb{F}_3[T]$."
   ]
  },
  {
   "cell_type": "code",
   "execution_count": 10,
   "id": "f100aaf4",
   "metadata": {
    "vscode": {
     "languageId": "sage"
    }
   },
   "outputs": [
    {
     "name": "stdout",
     "output_type": "stream",
     "text": [
      "Dirichlet L-function for chi_m:\n",
      "9*u^4 + 3*u^3 + 4*u^2 + u + 1\n",
      "L-function for mobius bias:\n",
      "1/9/(u^4 + 1/3*u^3 + 4/9*u^2 + 1/9*u + 1/9)\n",
      "L-function for cumulative mobius bias:\n",
      "(u^4 + 1/3*u^3 + 4/9*u^2 + 1/9*u)/(u^5 - 2/3*u^4 + 1/9*u^3 - 1/3*u^2 - 1/9)\n",
      "L-function for lambda bias:\n",
      "(-1/27*u^10 + 1/27*u^6 + 1/27*u^4 - 1/27)/(u^6 + 1/3*u^5 + 1/9*u^4 - 1/27*u^2 - 1/27*u - 1/27)\n",
      "L-function for cumulative lambda bias:\n",
      "(1/27*u^10 + 26/27*u^6 + 1/3*u^5 + 2/27*u^4 - 1/27*u^2 - 1/27*u)/(u^7 - 2/3*u^6 - 2/9*u^5 - 1/9*u^4 - 1/27*u^3 + 1/27)\n"
     ]
    }
   ],
   "source": [
    "R3.<t> = GF(3)['t']\n",
    "m = (t^2 + 1) * (t^3 + 2 * t + 1)\n",
    "chi_m = DirichletCharacterFFQuadratic(m)\n",
    "L_chi_m = chi_m.lfunc()\n",
    "\n",
    "print(\"Dirichlet L-function for chi_m:\")\n",
    "print(L_chi_m)\n",
    "\n",
    "print(\"L-function for mobius bias:\")\n",
    "print(lfunc_mu(m))\n",
    "\n",
    "print(\"L-function for cumulative mobius bias:\")\n",
    "print(lfunc_mu_cum(m))\n",
    "\n",
    "print(\"L-function for lambda bias:\")\n",
    "print(lfunc_lambda(m))\n",
    "\n",
    "print(\"L-function for cumulative lambda bias:\")\n",
    "print(lfunc_lambda_cum(m))"
   ]
  },
  {
   "cell_type": "markdown",
   "id": "81f303d6",
   "metadata": {},
   "source": [
    "Approximate density by counting up to certain degrees:"
   ]
  },
  {
   "cell_type": "code",
   "execution_count": 11,
   "id": "d353c2ed",
   "metadata": {
    "vscode": {
     "languageId": "sage"
    }
   },
   "outputs": [
    {
     "name": "stdout",
     "output_type": "stream",
     "text": [
      "shape: (4, 5)\n",
      "┌───────┬──────────────┬──────────────────┬──────────┬──────────────┐\n",
      "│ n_max ┆ delta_lambda ┆ delta_lambda_cum ┆ delta_mu ┆ delta_mu_cum │\n",
      "│ ---   ┆ ---          ┆ ---              ┆ ---      ┆ ---          │\n",
      "│ i64   ┆ f64          ┆ f64              ┆ f64      ┆ f64          │\n",
      "╞═══════╪══════════════╪══════════════════╪══════════╪══════════════╡\n",
      "│ 10    ┆ 0.7          ┆ 0.6              ┆ 0.5      ┆ 0.5          │\n",
      "│ 100   ┆ 0.55         ┆ 0.71             ┆ 0.55     ┆ 0.48         │\n",
      "│ 1000  ┆ 0.582        ┆ 0.736            ┆ 0.5      ┆ 0.501        │\n",
      "│ 10000 ┆ 0.5849       ┆ 0.7382           ┆ 0.5005   ┆ 0.4991       │\n",
      "└───────┴──────────────┴──────────────────┴──────────┴──────────────┘\n"
     ]
    }
   ],
   "source": [
    "df = densities_table(m, 10000, [10, 100, 1000, 10000])\n",
    "print(df)"
   ]
  },
  {
   "cell_type": "markdown",
   "id": "49cec1d3",
   "metadata": {},
   "source": [
    "Explicit $\\lambda$-density:"
   ]
  },
  {
   "cell_type": "code",
   "execution_count": 12,
   "id": "962aef66",
   "metadata": {
    "vscode": {
     "languageId": "sage"
    }
   },
   "outputs": [
    {
     "name": "stdout",
     "output_type": "stream",
     "text": [
      "Cm: 104/297 0.3501683501683502\n",
      "alpha_even: 260/891 0.29180695847362514\n",
      "alpha_odd: -52/891*sqrt(3) -0.10108489561569205\n",
      "alpha_even': 104/297 0.3501683501683502\n",
      "alpha_odd': 52/891*sqrt(3) 0.10108489561569205\n",
      "beta1: 40/297*sqrt(5)*sqrt(3)*sqrt(1/3) 0.30115393636360804\n",
      "beta2: 2/27*sqrt(19)*sqrt(3)*sqrt(2/3) 0.4566232594791834\n",
      "beta1': 40/297*sqrt(5)*sqrt(3)*sqrt(1/3) 0.30115393636360804\n",
      "beta2': 1/27*sqrt(19)*sqrt(3)*sqrt(2)*sqrt(2/3) 0.32288140322523506\n"
     ]
    }
   ],
   "source": [
    "cos1 = 1 / sqrt(12)\n",
    "cos2 = -1 / sqrt(3)\n",
    "cos21 = 2 * cos1^2 - 1\n",
    "cos22 = 2 * cos2^2 - 1\n",
    "cos31 = 4 * cos1^3 - 3 * cos1\n",
    "cos32 = 4 * cos2^3 - 3 * cos2\n",
    "cos41 = 2 * cos21^2 - 1\n",
    "cos42 = 2 * cos22^2 - 1\n",
    "cos61 = 2 * cos31^2 - 1\n",
    "cos62 = 2 * cos32^2 - 1\n",
    "sin1sq = 1 - cos1^2\n",
    "sin2sq = 1 - cos2^2\n",
    "Cm = (1 - 3 ** (-2)) * (1 - 3 ** (-3)) / (2 ** 2 * sin1sq * sin2sq)\n",
    "e_even = 1 + cos1 * cos2\n",
    "e_odd = cos1 + cos2\n",
    "\n",
    "alpha_even = Cm * e_even\n",
    "alpha_odd = Cm * e_odd\n",
    "Alpha_even = Cm * ((3/2) * e_even + (sqrt(3) / 2) * e_odd)\n",
    "Alpha_odd = Cm * ((3/2) * e_odd + (sqrt(3) / 2) * e_even)\n",
    "print(\"Cm:\", Cm, float(Cm))\n",
    "print(\"alpha_even:\", alpha_even, float(alpha_even))\n",
    "print(\"alpha_odd:\", alpha_odd, float(alpha_odd))\n",
    "print(\"alpha_even':\", Alpha_even, float(Alpha_even))\n",
    "print(\"alpha_odd':\", Alpha_odd, float(Alpha_odd))\n",
    "\n",
    "beta1 = (2 * sqrt(3) / 11) * sqrt(1 - 2 * 3^(-2) * cos41 + 3^(-4)) * sqrt(1 - 2 * 3^(-3) * cos61 + 3^(-6))\n",
    "beta2 = (sqrt(3) / 4) * sqrt(1 - 2 * 3^(-2) * cos42 + 3^(-4)) * sqrt(1 - 2 * 3^(-3) * cos62 + 3^(-6))\n",
    "print(\"beta1:\", beta1, float(beta1))\n",
    "print(\"beta2:\", beta2, float(beta2))\n",
    "\n",
    "Beta1 = beta1 / sqrt(1 - 2 * 3^(-1/2) * cos1 + 3^(-1))\n",
    "Beta2 = beta2 / sqrt(1 - 2 * 3^(-1/2) * cos2 + 3^(-1))\n",
    "print(\"beta1':\", Beta1, float(Beta1))\n",
    "print(\"beta2':\", Beta2, float(Beta2))\n"
   ]
  },
  {
   "cell_type": "code",
   "execution_count": 13,
   "id": "8ffc9f80",
   "metadata": {
    "vscode": {
     "languageId": "sage"
    }
   },
   "outputs": [
    {
     "name": "stdout",
     "output_type": "stream",
     "text": [
      "delta_lambda = 0.584867\n",
      "delta_lambda_cum = 0.739345\n"
     ]
    }
   ],
   "source": [
    "delta_lambda = 1 / 2 + 1 / 2 * (area(float(beta1), float(beta2), -float(alpha_odd)) - area(float(beta1), float(beta2), float(alpha_even)))\n",
    "print(f\"delta_lambda = {delta_lambda:.6f}\")\n",
    "delta_lambda_cum = 1 / 2 + 1 / 2 * (area(float(Beta1), float(Beta2), -float(Alpha_odd)) - area(float(Beta1), float(Beta2), float(Alpha_even)))\n",
    "print(f\"delta_lambda_cum = {delta_lambda_cum:.6f}\")"
   ]
  }
 ],
 "metadata": {
  "kernelspec": {
   "display_name": "SageMath 10.6",
   "language": "sage",
   "name": "SageMath-10.6"
  },
  "language_info": {
   "codemirror_mode": {
    "name": "ipython",
    "version": 3
   },
   "file_extension": ".py",
   "mimetype": "text/x-python",
   "name": "python",
   "nbconvert_exporter": "python",
   "pygments_lexer": "ipython3",
   "version": "3.12.5"
  }
 },
 "nbformat": 4,
 "nbformat_minor": 5
}
