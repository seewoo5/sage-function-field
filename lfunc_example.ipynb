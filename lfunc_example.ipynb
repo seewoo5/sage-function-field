{
 "cells": [
  {
   "cell_type": "code",
   "execution_count": 1,
   "id": "b6e21766",
   "metadata": {
    "vscode": {
     "languageId": "sage"
    }
   },
   "outputs": [],
   "source": [
    "from ff import *"
   ]
  },
  {
   "cell_type": "code",
   "execution_count": 2,
   "id": "4cc94c91",
   "metadata": {
    "vscode": {
     "languageId": "sage"
    }
   },
   "outputs": [
    {
     "name": "stdout",
     "output_type": "stream",
     "text": [
      "DirichletCharacter of modulus t^3 + t + 4 over GF(5) with exponents=(62,)\n",
      "5*u^2 + 3*u + 1\n",
      "(5) * (u^2 + 3/5*u + 1/5)\n",
      "1\n"
     ]
    }
   ],
   "source": [
    "R5.<t> = GF(5)['t']\n",
    "m1 = t^3 + t + 4\n",
    "chi_m1 = DirichletCharacterFFQuadratic(m1)\n",
    "print(chi_m1)\n",
    "print(chi_m1.lfunc())\n",
    "print(chi_m1.lfunc().factor())\n",
    "print(chi_m1.image_conductor())"
   ]
  },
  {
   "cell_type": "code",
   "execution_count": 3,
   "id": "2b896061",
   "metadata": {
    "vscode": {
     "languageId": "sage"
    }
   },
   "outputs": [
    {
     "name": "stdout",
     "output_type": "stream",
     "text": [
      "DirichletCharacter of modulus t^3 + 2*t + 1 over GF(3) with exponents=(13,)\n",
      "3*u^2 - 3*u + 1\n",
      "(3) * (u^2 - u + 1/3)\n",
      "1\n"
     ]
    }
   ],
   "source": [
    "R3.<t> = GF(3)['t']\n",
    "m2 = t^3 - t + 1\n",
    "chi_m2 = DirichletCharacterFFQuadratic(m2)\n",
    "print(chi_m2)\n",
    "print(chi_m2.lfunc())\n",
    "print(chi_m2.lfunc().factor())\n",
    "print(chi_m2.image_conductor())"
   ]
  },
  {
   "cell_type": "code",
   "execution_count": 4,
   "id": "f3eb9068",
   "metadata": {
    "vscode": {
     "languageId": "sage"
    }
   },
   "outputs": [
    {
     "name": "stdout",
     "output_type": "stream",
     "text": [
      "DirichletCharacter of modulus t^5 + t^2 + 2*t + 1 over GF(3) with exponents=(4, 13)\n",
      "9*u^4 + 3*u^3 + 4*u^2 + u + 1\n",
      "(9) * (u^2 - 1/3*u + 1/3) * (u^2 + 2/3*u + 1/3)\n",
      "Cyclotomic Field of order 1 and degree 1\n",
      "1\n"
     ]
    }
   ],
   "source": [
    "R3.<t> = GF(3)['t']\n",
    "m3 = (t^2 + 1) * (t^3 - t + 1)\n",
    "chi_m3 = DirichletCharacterFFQuadratic(m3)\n",
    "print(chi_m3)\n",
    "print(chi_m3.lfunc())\n",
    "print(chi_m3.lfunc().factor())\n",
    "print(chi_m3.lfunc().base_ring())\n",
    "print(chi_m3.image_conductor())"
   ]
  },
  {
   "cell_type": "code",
   "execution_count": 5,
   "id": "da0547dc",
   "metadata": {
    "vscode": {
     "languageId": "sage"
    }
   },
   "outputs": [
    {
     "name": "stdout",
     "output_type": "stream",
     "text": [
      "DirichletCharacter of modulus t^3 + t + 1 over GF(2) with exponents=(1,)\n",
      "(-zeta7^3 - zeta7 - 1)*u^2 + (zeta7^3 + zeta7)*u + 1\n",
      "(-zeta7^3 - zeta7 - 1) * (u - 1) * (u - 1/2*zeta7^5 - 1/2*zeta7^3 - 1/2*zeta7^2 - 1/2*zeta7)\n",
      "7\n"
     ]
    }
   ],
   "source": [
    "R2.<t> = GF(2)['t']\n",
    "m4 = t^3 + t + 1\n",
    "chi_m4 = DirichletCharacterFF(m4, (1,))\n",
    "print(chi_m4)\n",
    "print(chi_m4.lfunc())\n",
    "print(chi_m4.lfunc().factor())\n",
    "print(chi_m4.image_conductor())"
   ]
  },
  {
   "cell_type": "code",
   "execution_count": 6,
   "id": "877b21cb",
   "metadata": {
    "vscode": {
     "languageId": "sage"
    }
   },
   "outputs": [
    {
     "name": "stdout",
     "output_type": "stream",
     "text": [
      "DirichletCharacter of modulus t^4 + t + 1 over GF(2) with exponents=(1,)\n",
      "(-zeta15^7 + zeta15^5 - 2*zeta15^4 + zeta15^3 - zeta15^2 - 2*zeta15 + 1)*u^3 + (zeta15^7 - zeta15^5 + zeta15^4 - zeta15^3 + zeta15^2 + zeta15 - 2)*u^2 + (zeta15^4 + zeta15)*u + 1\n",
      "(-zeta15^7 + zeta15^5 - 2*zeta15^4 + zeta15^3 - zeta15^2 - 2*zeta15 + 1) * (u - 1) * (u - 1/2*zeta15^4 + 1/2*zeta15^3 + 1/2) * (u - 1/2*zeta15^7 - 1/2*zeta15^2 - 1/2*zeta15 + 1/2)\n",
      "15\n"
     ]
    }
   ],
   "source": [
    "m5 = t^4 + t + 1\n",
    "chi_m5 = DirichletCharacterFF(m5, (1,))\n",
    "print(chi_m5)\n",
    "print(chi_m5.lfunc())\n",
    "print(chi_m5.lfunc().factor())\n",
    "print(chi_m5.image_conductor())"
   ]
  }
 ],
 "metadata": {
  "kernelspec": {
   "display_name": "SageMath 10.6",
   "language": "sage",
   "name": "SageMath-10.6"
  },
  "language_info": {
   "codemirror_mode": {
    "name": "ipython",
    "version": 3
   },
   "file_extension": ".py",
   "mimetype": "text/x-python",
   "name": "python",
   "nbconvert_exporter": "python",
   "pygments_lexer": "ipython3",
   "version": "3.12.5"
  }
 },
 "nbformat": 4,
 "nbformat_minor": 5
}
